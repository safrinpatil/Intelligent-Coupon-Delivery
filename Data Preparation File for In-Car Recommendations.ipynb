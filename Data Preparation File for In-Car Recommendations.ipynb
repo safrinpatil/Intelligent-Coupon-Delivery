{
 "cells": [
  {
   "cell_type": "markdown",
   "metadata": {},
   "source": [
    "# Data Preparation File for In-Car Recommendations\n",
    "## Group Members: Jennifer Baker, Rachana Nagaraj Banakar, Devan Kreitzer, Patrick Maggio, Safrin Patil, Sravani Yadavalli\n",
    "\n",
    "In this notebook, the dataset is initally loaded, encoded, and split into training and test sets so that data across the different models trained by group members remain consistent. We desire this consistency because we want to penultimately choose the best model by comparing the different model evaluations for predicting the 'Yes' for usage of a recommended coupon based on the survey results. "
   ]
  },
  {
   "cell_type": "markdown",
   "metadata": {},
   "source": [
    "### Import the necessary libaries"
   ]
  },
  {
   "cell_type": "code",
   "execution_count": 1,
   "metadata": {},
   "outputs": [],
   "source": [
    "import pandas as pd\n",
    "import numpy as np\n",
    "from sklearn.model_selection import train_test_split\n",
    "from sklearn.impute import SimpleImputer\n",
    "np.random.seed(42) "
   ]
  },
  {
   "cell_type": "markdown",
   "metadata": {},
   "source": [
    "### Reading In the File"
   ]
  },
  {
   "cell_type": "code",
   "execution_count": 2,
   "metadata": {},
   "outputs": [],
   "source": [
    "df = pd.read_csv('in-vehicle-coupon-recommendation.csv')"
   ]
  },
  {
   "cell_type": "markdown",
   "metadata": {},
   "source": [
    "### Cleaning Up Rows"
   ]
  },
  {
   "cell_type": "code",
   "execution_count": 3,
   "metadata": {},
   "outputs": [],
   "source": [
    "df = df.dropna(axis=0, thresh=int(0.25*(df.shape[1]-1))) # axis=0 is row. thresh=int(0.25*(df.shape[1]-1)) means that if a row has less than 25% of the data, it will be dropped"
   ]
  },
  {
   "cell_type": "markdown",
   "metadata": {},
   "source": [
    "### Cleaning Up Columns\n",
    "\n",
    "Cleaning the columns by making sure that there are no spaces, and all capitalized for ease of reference"
   ]
  },
  {
   "cell_type": "code",
   "execution_count": 4,
   "metadata": {},
   "outputs": [
    {
     "name": "stdout",
     "output_type": "stream",
     "text": [
      "Index(['DESTINATION', 'PASSANGER', 'WEATHER', 'TEMPERATURE', 'TIME', 'COUPON',\n",
      "       'EXPIRATION', 'GENDER', 'AGE', 'MARITALSTATUS', 'HAS_CHILDREN',\n",
      "       'EDUCATION', 'OCCUPATION', 'INCOME', 'CAR', 'BAR', 'COFFEEHOUSE',\n",
      "       'CARRYAWAY', 'RESTAURANTLESSTHAN20', 'RESTAURANT20TO50',\n",
      "       'TOCOUPON_GEQ5MIN', 'TOCOUPON_GEQ15MIN', 'TOCOUPON_GEQ25MIN',\n",
      "       'DIRECTION_SAME', 'DIRECTION_OPP', 'Y'],\n",
      "      dtype='object')\n"
     ]
    }
   ],
   "source": [
    "df.columns = [s.strip().replace(' ', '_').upper() for s in df.columns]\n",
    "\n",
    "print(df.columns)"
   ]
  },
  {
   "cell_type": "markdown",
   "metadata": {},
   "source": [
    "CAR column was dropped because it was mostly NA, as shown in the below code cell. "
   ]
  },
  {
   "cell_type": "code",
   "execution_count": 5,
   "metadata": {},
   "outputs": [
    {
     "data": {
      "text/plain": [
       "(12684, 26)"
      ]
     },
     "execution_count": 5,
     "metadata": {},
     "output_type": "execute_result"
    }
   ],
   "source": [
    "df.shape"
   ]
  },
  {
   "cell_type": "markdown",
   "metadata": {},
   "source": [
    "Confirming no missing data from target "
   ]
  },
  {
   "cell_type": "code",
   "execution_count": 6,
   "metadata": {},
   "outputs": [
    {
     "data": {
      "text/plain": [
       "0"
      ]
     },
     "execution_count": 6,
     "metadata": {},
     "output_type": "execute_result"
    }
   ],
   "source": [
    "df['Y'].isna().sum()"
   ]
  },
  {
   "cell_type": "code",
   "execution_count": 7,
   "metadata": {},
   "outputs": [
    {
     "name": "stdout",
     "output_type": "stream",
     "text": [
      "{'CAR': 12576, 'BAR': 107, 'COFFEEHOUSE': 217, 'CARRYAWAY': 151, 'RESTAURANTLESSTHAN20': 130, 'RESTAURANT20TO50': 189}\n"
     ]
    }
   ],
   "source": [
    "nulldict = {}\n",
    "\n",
    "for col in df.columns:\n",
    "    if(df[col].isna().sum() != 0):\n",
    "        nulldict[col]=df[col].isna().sum()\n",
    "\n",
    "print(nulldict)\n"
   ]
  },
  {
   "cell_type": "markdown",
   "metadata": {},
   "source": [
    "Dropping Car column as most data is missing; not worth imputing"
   ]
  },
  {
   "cell_type": "code",
   "execution_count": 8,
   "metadata": {},
   "outputs": [],
   "source": [
    "df = df.drop(columns='CAR')"
   ]
  },
  {
   "cell_type": "markdown",
   "metadata": {},
   "source": [
    "The Encoding List below includes all the columns that we determined were categorical variables that needed encoding."
   ]
  },
  {
   "cell_type": "code",
   "execution_count": 9,
   "metadata": {},
   "outputs": [
    {
     "name": "stdout",
     "output_type": "stream",
     "text": [
      "['DESTINATION', 'PASSANGER', 'WEATHER', 'TIME', 'COUPON', 'EXPIRATION', 'GENDER', 'AGE', 'MARITALSTATUS', 'EDUCATION', 'OCCUPATION', 'INCOME', 'BAR', 'COFFEEHOUSE', 'CARRYAWAY', 'RESTAURANTLESSTHAN20', 'RESTAURANT20TO50']\n"
     ]
    }
   ],
   "source": [
    "encodinglist = [\"destination\",\"passanger\",\"weather\",\"time\",\"coupon\",\"expiration\",\"gender\",\"age\",\"maritalStatus\",\"education\", \"occupation\", \"income\", \"Bar\",'CoffeeHouse', 'CarryAway', 'RestaurantLessThan20', 'Restaurant20To50']\n",
    "def all_upper(my_list):\n",
    "    return [x.upper() for x in my_list]\n",
    "encodinglist = all_upper(encodinglist)\n",
    "print(encodinglist)\n",
    "\n"
   ]
  },
  {
   "cell_type": "code",
   "execution_count": 10,
   "metadata": {},
   "outputs": [],
   "source": [
    "# Iterate through the columns in the list and perform one-hot encoding\n",
    "for dummy in encodinglist:\n",
    "    df = pd.get_dummies(\n",
    "        df,\n",
    "        prefix_sep=\"_\",\n",
    "        dummy_na=False,\n",
    "        drop_first=False,\n",
    "        columns=[dummy],\n",
    "        dtype=\"int32\",\n",
    "    )"
   ]
  },
  {
   "cell_type": "code",
   "execution_count": 11,
   "metadata": {},
   "outputs": [
    {
     "data": {
      "text/plain": [
       "TEMPERATURE               int64\n",
       "HAS_CHILDREN              int64\n",
       "TOCOUPON_GEQ5MIN          int64\n",
       "TOCOUPON_GEQ15MIN         int64\n",
       "TOCOUPON_GEQ25MIN         int64\n",
       "                          ...  \n",
       "RESTAURANT20TO50_1~3      int32\n",
       "RESTAURANT20TO50_4~8      int32\n",
       "RESTAURANT20TO50_gt8      int32\n",
       "RESTAURANT20TO50_less1    int32\n",
       "RESTAURANT20TO50_never    int32\n",
       "Length: 110, dtype: object"
      ]
     },
     "execution_count": 11,
     "metadata": {},
     "output_type": "execute_result"
    }
   ],
   "source": [
    "df.dtypes"
   ]
  },
  {
   "cell_type": "markdown",
   "metadata": {},
   "source": [
    "Removes any special characters from column names"
   ]
  },
  {
   "cell_type": "code",
   "execution_count": 12,
   "metadata": {},
   "outputs": [],
   "source": [
    "df.columns = [s.strip().replace(' ', '_').upper() for s in df.columns]\n",
    "df.columns = [s.strip().replace('[', '_').upper() for s in df.columns]\n",
    "df.columns = [s.strip().replace(']', '_').upper() for s in df.columns]\n",
    "df.columns = [s.strip().replace(',', '_').upper() for s in df.columns]\n",
    "df.columns = [s.strip().replace('<', '_').upper() for s in df.columns]"
   ]
  },
  {
   "cell_type": "markdown",
   "metadata": {},
   "source": [
    "Creating the train-test split with the validation/test set as 0.2 because we want a large amount of data to train our models and 0.2"
   ]
  },
  {
   "cell_type": "code",
   "execution_count": 13,
   "metadata": {},
   "outputs": [],
   "source": [
    "# construct datasets for analysis\n",
    "target = 'Y'\n",
    "predictors = list(df.columns)\n",
    "predictors.remove(target)\n",
    "X = df[predictors]\n",
    "y = df[target]\n",
    "\n",
    "train_X, test_X, train_y, test_y = train_test_split(X,y, test_size=0.2, random_state=1)\n"
   ]
  },
  {
   "cell_type": "markdown",
   "metadata": {},
   "source": [
    "Imputing missing values"
   ]
  },
  {
   "cell_type": "code",
   "execution_count": 14,
   "metadata": {},
   "outputs": [
    {
     "data": {
      "text/plain": [
       "TEMPERATURE               int64\n",
       "HAS_CHILDREN              int64\n",
       "TOCOUPON_GEQ5MIN          int64\n",
       "TOCOUPON_GEQ15MIN         int64\n",
       "TOCOUPON_GEQ25MIN         int64\n",
       "                          ...  \n",
       "RESTAURANT20TO50_1~3      int32\n",
       "RESTAURANT20TO50_4~8      int32\n",
       "RESTAURANT20TO50_GT8      int32\n",
       "RESTAURANT20TO50_LESS1    int32\n",
       "RESTAURANT20TO50_NEVER    int32\n",
       "Length: 110, dtype: object"
      ]
     },
     "execution_count": 14,
     "metadata": {},
     "output_type": "execute_result"
    }
   ],
   "source": [
    "df.dtypes"
   ]
  },
  {
   "cell_type": "code",
   "execution_count": 15,
   "metadata": {},
   "outputs": [],
   "source": [
    "for column in train_X.select_dtypes(include=['object']):\n",
    "    train_mode = train_X[column].value_counts().index[0]\n",
    "    train_X[column] = train_X[column].fillna(0)\n",
    "    test_X[column] = test_X[column].fillna(0)\n",
    "\n",
    "# for the numeric columns, we choose the mean for our impute value.\n",
    "imp = SimpleImputer(missing_values=np.nan, strategy='mean')\n",
    "\n",
    "numeric_cols = ['TEMPERATURE', 'HAS_CHILDREN', 'TOCOUPON_GEQ5MIN','TOCOUPON_GEQ15MIN', 'TOCOUPON_GEQ25MIN','DIRECTION_SAME', 'DIRECTION_OPP']\n",
    "imp.fit(train_X[numeric_cols])\n",
    "train_X[numeric_cols] = imp.transform(train_X[numeric_cols])\n",
    "test_X[numeric_cols] = imp.transform(test_X[numeric_cols])"
   ]
  },
  {
   "cell_type": "markdown",
   "metadata": {},
   "source": [
    "Exporting Training/Test Splits to Be Shared By Team"
   ]
  },
  {
   "cell_type": "code",
   "execution_count": 16,
   "metadata": {},
   "outputs": [],
   "source": [
    "train_X.to_csv('train_X_In-Car-Rec.csv', index = False)\n",
    "train_y.to_csv('train_y_In-Car-Rec.csv', index = False)\n",
    "test_X.to_csv('test_X_In-Car-Rec.csv', index = False)\n",
    "test_y.to_csv('test_y_In-Car-Rec.csv', index = False)"
   ]
  }
 ],
 "metadata": {
  "kernelspec": {
   "display_name": "Python 3",
   "language": "python",
   "name": "python3"
  },
  "language_info": {
   "codemirror_mode": {
    "name": "ipython",
    "version": 3
   },
   "file_extension": ".py",
   "mimetype": "text/x-python",
   "name": "python",
   "nbconvert_exporter": "python",
   "pygments_lexer": "ipython3",
   "version": "3.11.4"
  }
 },
 "nbformat": 4,
 "nbformat_minor": 2
}
